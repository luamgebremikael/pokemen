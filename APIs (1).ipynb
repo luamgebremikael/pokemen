{
 "cells": [
  {
   "cell_type": "markdown",
   "metadata": {},
   "source": [
    "# APIs\n"
   ]
  },
  {
   "cell_type": "markdown",
   "metadata": {},
   "source": [
    "## Tasks Today:\n",
    "1) <b>Requests and the pokemon API </b> <br>\n",
    " "
   ]
  },
  {
   "cell_type": "markdown",
   "metadata": {},
   "source": [
    "# working with APis"
   ]
  },
  {
   "cell_type": "markdown",
   "metadata": {},
   "source": [
    "<p> What exactly is an API? <br> <br>\n",
    "API is the acronym for Application Programming Interface, which is a software intermediary that allows two applications to talk to each other. Each time you use an app like Facebook, send an instant message, or check the weather on your phone, you're using an API. </p>"
   ]
  },
  {
   "cell_type": "markdown",
   "metadata": {},
   "source": [
    "### The Poke API  allows you to retreive a pokemon's information from PokeAPI https://pokeapi.co/\n",
    "\n"
   ]
  },
  {
   "cell_type": "code",
   "execution_count": 1,
   "metadata": {},
   "outputs": [
    {
     "name": "stdout",
     "output_type": "stream",
     "text": [
      "What pokemon do you want information for?pikachu\n",
      "SUCCESS\n"
     ]
    }
   ],
   "source": [
    "# making an API call\n",
    "import requests\n",
    "\n",
    "pokemon = input('What pokemon do you want information for?')\n",
    "\n",
    "response = requests.get(f'https://pokeapi.co/api/v2/pokemon/{pokemon}')\n",
    "\n",
    "if response.status_code == 200:\n",
    "    print('SUCCESS')\n",
    "    data = response.json()\n",
    "else:\n",
    "    print(f'ERROR, STATUS CODE {response.status_code}')"
   ]
  },
  {
   "cell_type": "code",
   "execution_count": 2,
   "metadata": {},
   "outputs": [
    {
     "name": "stdout",
     "output_type": "stream",
     "text": [
      "pikachu\n"
     ]
    }
   ],
   "source": [
    "print(data['name'])"
   ]
  },
  {
   "cell_type": "markdown",
   "metadata": {},
   "source": [
    "### Display a Pokemon's name, weight, abilities, and types"
   ]
  },
  {
   "cell_type": "code",
   "execution_count": 3,
   "metadata": {},
   "outputs": [
    {
     "name": "stdout",
     "output_type": "stream",
     "text": [
      "pikachu\n"
     ]
    }
   ],
   "source": [
    "# get the name\n",
    "name = data['name']\n",
    "print(name)"
   ]
  },
  {
   "cell_type": "code",
   "execution_count": 4,
   "metadata": {},
   "outputs": [
    {
     "data": {
      "text/plain": [
       "[{'slot': 1,\n",
       "  'type': {'name': 'electric', 'url': 'https://pokeapi.co/api/v2/type/13/'}}]"
      ]
     },
     "execution_count": 4,
     "metadata": {},
     "output_type": "execute_result"
    }
   ],
   "source": [
    "# get types\n",
    "data['types']"
   ]
  },
  {
   "cell_type": "code",
   "execution_count": 5,
   "metadata": {},
   "outputs": [
    {
     "data": {
      "text/plain": [
       "60"
      ]
     },
     "execution_count": 5,
     "metadata": {},
     "output_type": "execute_result"
    }
   ],
   "source": [
    "# get weight\n",
    "data['weight']"
   ]
  },
  {
   "cell_type": "code",
   "execution_count": 6,
   "metadata": {},
   "outputs": [
    {
     "data": {
      "text/plain": [
       "[{'ability': {'name': 'static', 'url': 'https://pokeapi.co/api/v2/ability/9/'},\n",
       "  'is_hidden': False,\n",
       "  'slot': 1},\n",
       " {'ability': {'name': 'lightning-rod',\n",
       "   'url': 'https://pokeapi.co/api/v2/ability/31/'},\n",
       "  'is_hidden': True,\n",
       "  'slot': 3}]"
      ]
     },
     "execution_count": 6,
     "metadata": {},
     "output_type": "execute_result"
    }
   ],
   "source": [
    "# get abilities\n",
    "data['abilities']"
   ]
  },
  {
   "cell_type": "code",
   "execution_count": 7,
   "metadata": {},
   "outputs": [],
   "source": [
    "ability_names = [item['ability']['name'] for item in data['abilities']]"
   ]
  },
  {
   "cell_type": "code",
   "execution_count": 8,
   "metadata": {},
   "outputs": [
    {
     "data": {
      "text/plain": [
       "['static', 'lightning-rod']"
      ]
     },
     "execution_count": 8,
     "metadata": {},
     "output_type": "execute_result"
    }
   ],
   "source": [
    "ability_names"
   ]
  },
  {
   "cell_type": "code",
   "execution_count": 9,
   "metadata": {},
   "outputs": [],
   "source": [
    "# Create a structure for a single pokemon\n",
    "pokemon = {\n",
    "    'abilities': ability_names,\n",
    "    'name': data['name'],\n",
    "    'types': data['types'],\n",
    "    'weight': data['weight']\n",
    "}"
   ]
  },
  {
   "cell_type": "code",
   "execution_count": 10,
   "metadata": {},
   "outputs": [
    {
     "data": {
      "text/plain": [
       "{'abilities': ['static', 'lightning-rod'],\n",
       " 'name': 'pikachu',\n",
       " 'types': [{'slot': 1,\n",
       "   'type': {'name': 'electric', 'url': 'https://pokeapi.co/api/v2/type/13/'}}],\n",
       " 'weight': 60}"
      ]
     },
     "execution_count": 10,
     "metadata": {},
     "output_type": "execute_result"
    }
   ],
   "source": [
    "pokemon"
   ]
  },
  {
   "cell_type": "markdown",
   "metadata": {},
   "source": [
    "#### Create a function to Pull in your own Pokemon's data "
   ]
  },
  {
   "cell_type": "code",
   "execution_count": 11,
   "metadata": {},
   "outputs": [],
   "source": [
    "# Create a function that does the following:\n",
    "# Asks a user to input a pokemon name\n",
    "# Requests the poke api for that pokemon's information\n",
    "# Creates the dictionary from above with that pokemons information\n",
    "    # In addition to the above keys, include the height and the \"front_default\" sprite\n",
    "# Returns the dictionary\n",
    "\n",
    "def poke_api_call(pokemon=None):\n",
    "    if not pokemon:\n",
    "        pokemon = input('What pokemon do you want to select?')\n",
    "    \n",
    "    response = requests.get(f'https://pokeapi.co/api/v2/pokemon/{pokemon}')\n",
    "\n",
    "    if response.status_code == 200:\n",
    "        print('SUCCESS')\n",
    "        data = response.json()\n",
    "    else:\n",
    "        print(f'ERROR, STATUS CODE {response.status_code}')\n",
    "        return 'Error'\n",
    "    \n",
    "    ability_names = [item['ability']['name'] for item in data['abilities']]\n",
    "    \n",
    "    poke_dict = {\n",
    "        'abilities': ability_names,\n",
    "        'name': data['name'],\n",
    "        'types': data['types'],\n",
    "        'weight': data['weight'],\n",
    "        'height': data['height'],\n",
    "        'sprite': data['sprites']['front_default']\n",
    "    }\n",
    "    \n",
    "    return poke_dict"
   ]
  },
  {
   "cell_type": "code",
   "execution_count": 12,
   "metadata": {},
   "outputs": [
    {
     "name": "stdout",
     "output_type": "stream",
     "text": [
      "SUCCESS\n"
     ]
    },
    {
     "data": {
      "text/plain": [
       "{'abilities': ['static', 'lightning-rod'],\n",
       " 'name': 'pikachu',\n",
       " 'types': [{'slot': 1,\n",
       "   'type': {'name': 'electric', 'url': 'https://pokeapi.co/api/v2/type/13/'}}],\n",
       " 'weight': 60,\n",
       " 'height': 4,\n",
       " 'sprite': 'https://raw.githubusercontent.com/PokeAPI/sprites/master/sprites/pokemon/25.png'}"
      ]
     },
     "execution_count": 12,
     "metadata": {},
     "output_type": "execute_result"
    }
   ],
   "source": [
    "poke_api_call('pikachu')"
   ]
  },
  {
   "cell_type": "code",
   "execution_count": null,
   "metadata": {},
   "outputs": [],
   "source": []
  },
  {
   "cell_type": "markdown",
   "metadata": {},
   "source": [
    "Choose your pokemon"
   ]
  },
  {
   "cell_type": "code",
   "execution_count": 13,
   "metadata": {},
   "outputs": [
    {
     "name": "stdout",
     "output_type": "stream",
     "text": [
      "SUCCESS\n",
      "SUCCESS\n",
      "SUCCESS\n",
      "SUCCESS\n",
      "SUCCESS\n",
      "SUCCESS\n"
     ]
    }
   ],
   "source": [
    "from random import randint\n",
    "# Random number generated for each pokemon id\n",
    "random_team = [randint(1,898) for i in range(6)]\n",
    "\n",
    "your_team = ['electabuzz', 'haunter','tyranitar','blaziken','marowak','dragonair']\n",
    "\n",
    "\n",
    "your_team_pokemon = []\n",
    "\n",
    "for teammate in your_team:\n",
    "    your_team_pokemon.append(poke_api_call(teammate))"
   ]
  },
  {
   "cell_type": "code",
   "execution_count": 14,
   "metadata": {},
   "outputs": [
    {
     "name": "stdout",
     "output_type": "stream",
     "text": [
      "SUCCESS\n",
      "SUCCESS\n",
      "SUCCESS\n",
      "SUCCESS\n",
      "SUCCESS\n",
      "SUCCESS\n"
     ]
    },
    {
     "data": {
      "text/plain": [
       "[{'abilities': ['static', 'vital-spirit'],\n",
       "  'name': 'electabuzz',\n",
       "  'types': [{'slot': 1,\n",
       "    'type': {'name': 'electric',\n",
       "     'url': 'https://pokeapi.co/api/v2/type/13/'}}],\n",
       "  'weight': 300,\n",
       "  'height': 11,\n",
       "  'sprite': 'https://raw.githubusercontent.com/PokeAPI/sprites/master/sprites/pokemon/125.png'},\n",
       " {'abilities': ['levitate'],\n",
       "  'name': 'haunter',\n",
       "  'types': [{'slot': 1,\n",
       "    'type': {'name': 'ghost', 'url': 'https://pokeapi.co/api/v2/type/8/'}},\n",
       "   {'slot': 2,\n",
       "    'type': {'name': 'poison', 'url': 'https://pokeapi.co/api/v2/type/4/'}}],\n",
       "  'weight': 1,\n",
       "  'height': 16,\n",
       "  'sprite': 'https://raw.githubusercontent.com/PokeAPI/sprites/master/sprites/pokemon/93.png'},\n",
       " {'abilities': ['sand-stream', 'unnerve'],\n",
       "  'name': 'tyranitar',\n",
       "  'types': [{'slot': 1,\n",
       "    'type': {'name': 'rock', 'url': 'https://pokeapi.co/api/v2/type/6/'}},\n",
       "   {'slot': 2,\n",
       "    'type': {'name': 'dark', 'url': 'https://pokeapi.co/api/v2/type/17/'}}],\n",
       "  'weight': 2020,\n",
       "  'height': 20,\n",
       "  'sprite': 'https://raw.githubusercontent.com/PokeAPI/sprites/master/sprites/pokemon/248.png'},\n",
       " {'abilities': ['blaze', 'speed-boost'],\n",
       "  'name': 'blaziken',\n",
       "  'types': [{'slot': 1,\n",
       "    'type': {'name': 'fire', 'url': 'https://pokeapi.co/api/v2/type/10/'}},\n",
       "   {'slot': 2,\n",
       "    'type': {'name': 'fighting', 'url': 'https://pokeapi.co/api/v2/type/2/'}}],\n",
       "  'weight': 520,\n",
       "  'height': 19,\n",
       "  'sprite': 'https://raw.githubusercontent.com/PokeAPI/sprites/master/sprites/pokemon/257.png'},\n",
       " {'abilities': ['rock-head', 'lightning-rod', 'battle-armor'],\n",
       "  'name': 'marowak',\n",
       "  'types': [{'slot': 1,\n",
       "    'type': {'name': 'ground', 'url': 'https://pokeapi.co/api/v2/type/5/'}}],\n",
       "  'weight': 450,\n",
       "  'height': 10,\n",
       "  'sprite': 'https://raw.githubusercontent.com/PokeAPI/sprites/master/sprites/pokemon/105.png'},\n",
       " {'abilities': ['shed-skin', 'marvel-scale'],\n",
       "  'name': 'dragonair',\n",
       "  'types': [{'slot': 1,\n",
       "    'type': {'name': 'dragon', 'url': 'https://pokeapi.co/api/v2/type/16/'}}],\n",
       "  'weight': 165,\n",
       "  'height': 40,\n",
       "  'sprite': 'https://raw.githubusercontent.com/PokeAPI/sprites/master/sprites/pokemon/148.png'}]"
      ]
     },
     "execution_count": 14,
     "metadata": {},
     "output_type": "execute_result"
    }
   ],
   "source": [
    "list(map(poke_api_call, your_team))"
   ]
  },
  {
   "cell_type": "code",
   "execution_count": 15,
   "metadata": {},
   "outputs": [
    {
     "data": {
      "text/plain": [
       "[{'abilities': ['static', 'vital-spirit'],\n",
       "  'name': 'electabuzz',\n",
       "  'types': [{'slot': 1,\n",
       "    'type': {'name': 'electric',\n",
       "     'url': 'https://pokeapi.co/api/v2/type/13/'}}],\n",
       "  'weight': 300,\n",
       "  'height': 11,\n",
       "  'sprite': 'https://raw.githubusercontent.com/PokeAPI/sprites/master/sprites/pokemon/125.png'},\n",
       " {'abilities': ['levitate'],\n",
       "  'name': 'haunter',\n",
       "  'types': [{'slot': 1,\n",
       "    'type': {'name': 'ghost', 'url': 'https://pokeapi.co/api/v2/type/8/'}},\n",
       "   {'slot': 2,\n",
       "    'type': {'name': 'poison', 'url': 'https://pokeapi.co/api/v2/type/4/'}}],\n",
       "  'weight': 1,\n",
       "  'height': 16,\n",
       "  'sprite': 'https://raw.githubusercontent.com/PokeAPI/sprites/master/sprites/pokemon/93.png'},\n",
       " {'abilities': ['sand-stream', 'unnerve'],\n",
       "  'name': 'tyranitar',\n",
       "  'types': [{'slot': 1,\n",
       "    'type': {'name': 'rock', 'url': 'https://pokeapi.co/api/v2/type/6/'}},\n",
       "   {'slot': 2,\n",
       "    'type': {'name': 'dark', 'url': 'https://pokeapi.co/api/v2/type/17/'}}],\n",
       "  'weight': 2020,\n",
       "  'height': 20,\n",
       "  'sprite': 'https://raw.githubusercontent.com/PokeAPI/sprites/master/sprites/pokemon/248.png'},\n",
       " {'abilities': ['blaze', 'speed-boost'],\n",
       "  'name': 'blaziken',\n",
       "  'types': [{'slot': 1,\n",
       "    'type': {'name': 'fire', 'url': 'https://pokeapi.co/api/v2/type/10/'}},\n",
       "   {'slot': 2,\n",
       "    'type': {'name': 'fighting', 'url': 'https://pokeapi.co/api/v2/type/2/'}}],\n",
       "  'weight': 520,\n",
       "  'height': 19,\n",
       "  'sprite': 'https://raw.githubusercontent.com/PokeAPI/sprites/master/sprites/pokemon/257.png'},\n",
       " {'abilities': ['rock-head', 'lightning-rod', 'battle-armor'],\n",
       "  'name': 'marowak',\n",
       "  'types': [{'slot': 1,\n",
       "    'type': {'name': 'ground', 'url': 'https://pokeapi.co/api/v2/type/5/'}}],\n",
       "  'weight': 450,\n",
       "  'height': 10,\n",
       "  'sprite': 'https://raw.githubusercontent.com/PokeAPI/sprites/master/sprites/pokemon/105.png'},\n",
       " {'abilities': ['shed-skin', 'marvel-scale'],\n",
       "  'name': 'dragonair',\n",
       "  'types': [{'slot': 1,\n",
       "    'type': {'name': 'dragon', 'url': 'https://pokeapi.co/api/v2/type/16/'}}],\n",
       "  'weight': 165,\n",
       "  'height': 40,\n",
       "  'sprite': 'https://raw.githubusercontent.com/PokeAPI/sprites/master/sprites/pokemon/148.png'}]"
      ]
     },
     "execution_count": 15,
     "metadata": {},
     "output_type": "execute_result"
    }
   ],
   "source": [
    "your_team_pokemon"
   ]
  },
  {
   "cell_type": "code",
   "execution_count": 16,
   "metadata": {},
   "outputs": [
    {
     "data": {
      "text/plain": [
       "[753, 68, 727, 489, 878, 229]"
      ]
     },
     "execution_count": 16,
     "metadata": {},
     "output_type": "execute_result"
    }
   ],
   "source": [
    "random_team"
   ]
  },
  {
   "cell_type": "code",
   "execution_count": 17,
   "metadata": {},
   "outputs": [
    {
     "name": "stdout",
     "output_type": "stream",
     "text": [
      "SUCCESS\n",
      "SUCCESS\n",
      "SUCCESS\n",
      "SUCCESS\n",
      "SUCCESS\n",
      "SUCCESS\n"
     ]
    }
   ],
   "source": [
    "random_team_pokemon = []\n",
    "\n",
    "for teammate in random_team:\n",
    "    random_team_pokemon.append(poke_api_call(teammate))"
   ]
  },
  {
   "cell_type": "code",
   "execution_count": 18,
   "metadata": {},
   "outputs": [
    {
     "data": {
      "text/plain": [
       "[{'abilities': ['leaf-guard', 'contrary'],\n",
       "  'name': 'fomantis',\n",
       "  'types': [{'slot': 1,\n",
       "    'type': {'name': 'grass', 'url': 'https://pokeapi.co/api/v2/type/12/'}}],\n",
       "  'weight': 15,\n",
       "  'height': 3,\n",
       "  'sprite': 'https://raw.githubusercontent.com/PokeAPI/sprites/master/sprites/pokemon/753.png'},\n",
       " {'abilities': ['guts', 'no-guard', 'steadfast'],\n",
       "  'name': 'machamp',\n",
       "  'types': [{'slot': 1,\n",
       "    'type': {'name': 'fighting', 'url': 'https://pokeapi.co/api/v2/type/2/'}}],\n",
       "  'weight': 1300,\n",
       "  'height': 16,\n",
       "  'sprite': 'https://raw.githubusercontent.com/PokeAPI/sprites/master/sprites/pokemon/68.png'},\n",
       " {'abilities': ['blaze', 'intimidate'],\n",
       "  'name': 'incineroar',\n",
       "  'types': [{'slot': 1,\n",
       "    'type': {'name': 'fire', 'url': 'https://pokeapi.co/api/v2/type/10/'}},\n",
       "   {'slot': 2,\n",
       "    'type': {'name': 'dark', 'url': 'https://pokeapi.co/api/v2/type/17/'}}],\n",
       "  'weight': 830,\n",
       "  'height': 18,\n",
       "  'sprite': 'https://raw.githubusercontent.com/PokeAPI/sprites/master/sprites/pokemon/727.png'},\n",
       " {'abilities': ['hydration'],\n",
       "  'name': 'phione',\n",
       "  'types': [{'slot': 1,\n",
       "    'type': {'name': 'water', 'url': 'https://pokeapi.co/api/v2/type/11/'}}],\n",
       "  'weight': 31,\n",
       "  'height': 4,\n",
       "  'sprite': 'https://raw.githubusercontent.com/PokeAPI/sprites/master/sprites/pokemon/489.png'},\n",
       " {'abilities': ['sheer-force', 'heavy-metal'],\n",
       "  'name': 'cufant',\n",
       "  'types': [{'slot': 1,\n",
       "    'type': {'name': 'steel', 'url': 'https://pokeapi.co/api/v2/type/9/'}}],\n",
       "  'weight': 1000,\n",
       "  'height': 12,\n",
       "  'sprite': 'https://raw.githubusercontent.com/PokeAPI/sprites/master/sprites/pokemon/878.png'},\n",
       " {'abilities': ['early-bird', 'flash-fire', 'unnerve'],\n",
       "  'name': 'houndoom',\n",
       "  'types': [{'slot': 1,\n",
       "    'type': {'name': 'dark', 'url': 'https://pokeapi.co/api/v2/type/17/'}},\n",
       "   {'slot': 2,\n",
       "    'type': {'name': 'fire', 'url': 'https://pokeapi.co/api/v2/type/10/'}}],\n",
       "  'weight': 350,\n",
       "  'height': 14,\n",
       "  'sprite': 'https://raw.githubusercontent.com/PokeAPI/sprites/master/sprites/pokemon/229.png'}]"
      ]
     },
     "execution_count": 18,
     "metadata": {},
     "output_type": "execute_result"
    }
   ],
   "source": [
    "random_team_pokemon"
   ]
  },
  {
   "cell_type": "markdown",
   "metadata": {},
   "source": [
    "#### Use your function to create a dictionary of your Johto League 6  (favorite 6 pokemon)"
   ]
  },
  {
   "cell_type": "code",
   "execution_count": 19,
   "metadata": {},
   "outputs": [
    {
     "name": "stdout",
     "output_type": "stream",
     "text": [
      "SUCCESS\n",
      "SUCCESS\n",
      "SUCCESS\n",
      "SUCCESS\n",
      "SUCCESS\n",
      "SUCCESS\n"
     ]
    }
   ],
   "source": [
    "# Place all 6 of your pokemon on the object below, each pokemon should have at least as much info as Pikachu did.\n",
    "my_six_pokemon = {}\n",
    "\n",
    "for teammate in your_team:\n",
    "    my_six_pokemon[teammate] = poke_api_call(teammate)"
   ]
  },
  {
   "cell_type": "code",
   "execution_count": 20,
   "metadata": {},
   "outputs": [
    {
     "data": {
      "text/plain": [
       "{'electabuzz': {'abilities': ['static', 'vital-spirit'],\n",
       "  'name': 'electabuzz',\n",
       "  'types': [{'slot': 1,\n",
       "    'type': {'name': 'electric',\n",
       "     'url': 'https://pokeapi.co/api/v2/type/13/'}}],\n",
       "  'weight': 300,\n",
       "  'height': 11,\n",
       "  'sprite': 'https://raw.githubusercontent.com/PokeAPI/sprites/master/sprites/pokemon/125.png'},\n",
       " 'haunter': {'abilities': ['levitate'],\n",
       "  'name': 'haunter',\n",
       "  'types': [{'slot': 1,\n",
       "    'type': {'name': 'ghost', 'url': 'https://pokeapi.co/api/v2/type/8/'}},\n",
       "   {'slot': 2,\n",
       "    'type': {'name': 'poison', 'url': 'https://pokeapi.co/api/v2/type/4/'}}],\n",
       "  'weight': 1,\n",
       "  'height': 16,\n",
       "  'sprite': 'https://raw.githubusercontent.com/PokeAPI/sprites/master/sprites/pokemon/93.png'},\n",
       " 'tyranitar': {'abilities': ['sand-stream', 'unnerve'],\n",
       "  'name': 'tyranitar',\n",
       "  'types': [{'slot': 1,\n",
       "    'type': {'name': 'rock', 'url': 'https://pokeapi.co/api/v2/type/6/'}},\n",
       "   {'slot': 2,\n",
       "    'type': {'name': 'dark', 'url': 'https://pokeapi.co/api/v2/type/17/'}}],\n",
       "  'weight': 2020,\n",
       "  'height': 20,\n",
       "  'sprite': 'https://raw.githubusercontent.com/PokeAPI/sprites/master/sprites/pokemon/248.png'},\n",
       " 'blaziken': {'abilities': ['blaze', 'speed-boost'],\n",
       "  'name': 'blaziken',\n",
       "  'types': [{'slot': 1,\n",
       "    'type': {'name': 'fire', 'url': 'https://pokeapi.co/api/v2/type/10/'}},\n",
       "   {'slot': 2,\n",
       "    'type': {'name': 'fighting', 'url': 'https://pokeapi.co/api/v2/type/2/'}}],\n",
       "  'weight': 520,\n",
       "  'height': 19,\n",
       "  'sprite': 'https://raw.githubusercontent.com/PokeAPI/sprites/master/sprites/pokemon/257.png'},\n",
       " 'marowak': {'abilities': ['rock-head', 'lightning-rod', 'battle-armor'],\n",
       "  'name': 'marowak',\n",
       "  'types': [{'slot': 1,\n",
       "    'type': {'name': 'ground', 'url': 'https://pokeapi.co/api/v2/type/5/'}}],\n",
       "  'weight': 450,\n",
       "  'height': 10,\n",
       "  'sprite': 'https://raw.githubusercontent.com/PokeAPI/sprites/master/sprites/pokemon/105.png'},\n",
       " 'dragonair': {'abilities': ['shed-skin', 'marvel-scale'],\n",
       "  'name': 'dragonair',\n",
       "  'types': [{'slot': 1,\n",
       "    'type': {'name': 'dragon', 'url': 'https://pokeapi.co/api/v2/type/16/'}}],\n",
       "  'weight': 165,\n",
       "  'height': 40,\n",
       "  'sprite': 'https://raw.githubusercontent.com/PokeAPI/sprites/master/sprites/pokemon/148.png'}}"
      ]
     },
     "execution_count": 20,
     "metadata": {},
     "output_type": "execute_result"
    }
   ],
   "source": [
    "my_six_pokemon"
   ]
  },
  {
   "cell_type": "markdown",
   "metadata": {},
   "source": [
    "## Lets create a class called 'Pokemon' and create our pokemon as instances"
   ]
  },
  {
   "cell_type": "code",
   "execution_count": 21,
   "metadata": {},
   "outputs": [],
   "source": [
    "poke_dict = {\n",
    "    'abilities': ability_names,\n",
    "    'name': data['name'],\n",
    "    'types': data['types'],\n",
    "    'weight': data['weight'],\n",
    "    'height': data['height'],\n",
    "    'sprite': data['sprites']['front_default']\n",
    "}"
   ]
  },
  {
   "cell_type": "code",
   "execution_count": 22,
   "metadata": {},
   "outputs": [],
   "source": [
    "class Pokemon():\n",
    "    def __init__(self, name):\n",
    "        self.abilities = []\n",
    "        self.name = name\n",
    "        self.types = []\n",
    "        self.weight = None\n",
    "        self.height = None\n",
    "        self.sprite = None\n",
    "        self.poke_api_call()\n",
    "        \n",
    "    def poke_api_call(self):\n",
    "        response = requests.get(f'https://pokeapi.co/api/v2/pokemon/{self.name}')\n",
    "\n",
    "        if response.status_code == 200:\n",
    "            data = response.json()\n",
    "        else:\n",
    "            return 'Error'\n",
    "\n",
    "        ability_names = [item['ability']['name'] for item in data['abilities']]\n",
    "        \n",
    "        self.types = data['types']\n",
    "        self.abilities = ability_names\n",
    "        self.weight = data['weight']\n",
    "        self.height = data['height']\n",
    "        self.sprite = data['sprites']['front_default']\n",
    "        \n",
    "    def evolve(self):\n",
    "        new_poke = input(\"What pokemon should you evolve into?\")\n",
    "        self.name = new_poke\n",
    "        self.poke_api_call()"
   ]
  },
  {
   "cell_type": "code",
   "execution_count": 23,
   "metadata": {},
   "outputs": [],
   "source": [
    "pikachu = Pokemon('pikachu')"
   ]
  },
  {
   "cell_type": "code",
   "execution_count": 24,
   "metadata": {},
   "outputs": [
    {
     "name": "stdout",
     "output_type": "stream",
     "text": [
      "60\n"
     ]
    }
   ],
   "source": [
    "print(pikachu.weight)"
   ]
  },
  {
   "cell_type": "markdown",
   "metadata": {},
   "source": [
    "### Let's Catch some Pokemon"
   ]
  },
  {
   "cell_type": "code",
   "execution_count": null,
   "metadata": {},
   "outputs": [],
   "source": []
  },
  {
   "cell_type": "code",
   "execution_count": 25,
   "metadata": {},
   "outputs": [],
   "source": [
    "class Pokedex:\n",
    "    def __init__(self, player_name):\n",
    "        self.player_name = player_name\n",
    "        self.pokemon = {}\n",
    "        \n",
    "    def add_pokemon(self, name):\n",
    "        self.pokemon[name] = Pokemon(name)\n",
    "        print(f\"{name} was added to {self.player_name}'s pokedex.\")\n",
    "\n",
    "    # Add a pokemon lookup method to lookup a pokemon and display it's information (In a user friendly way)"
   ]
  },
  {
   "cell_type": "code",
   "execution_count": 26,
   "metadata": {},
   "outputs": [],
   "source": [
    "dylans_pokedex = Pokedex('dylan')"
   ]
  },
  {
   "cell_type": "code",
   "execution_count": 27,
   "metadata": {},
   "outputs": [
    {
     "name": "stdout",
     "output_type": "stream",
     "text": [
      "ho-oh was added to dylan's pokedex.\n"
     ]
    }
   ],
   "source": [
    "dylans_pokedex.add_pokemon('ho-oh')"
   ]
  },
  {
   "cell_type": "code",
   "execution_count": 28,
   "metadata": {},
   "outputs": [
    {
     "data": {
      "text/plain": [
       "{'ho-oh': <__main__.Pokemon at 0x18cb5fabb20>}"
      ]
     },
     "execution_count": 28,
     "metadata": {},
     "output_type": "execute_result"
    }
   ],
   "source": [
    "dylans_pokedex.pokemon"
   ]
  },
  {
   "cell_type": "markdown",
   "metadata": {},
   "source": [
    "## Exercise 1:"
   ]
  },
  {
   "cell_type": "markdown",
   "metadata": {},
   "source": [
    "### Create a Method prints an image of your pokemon\n",
    "\n",
    "<p>HINT: You may need another attribute as well to store your image url within. </p>"
   ]
  },
  {
   "cell_type": "code",
   "execution_count": 29,
   "metadata": {},
   "outputs": [
    {
     "data": {
      "image/png": "[encoded data removed]",
      "text/plain": [
       "<IPython.core.display.Image object>"
      ]
     },
     "metadata": {
      "image/png": {
       "width": 200
      }
     },
     "output_type": "display_data"
    }
   ],
   "source": [
    "# Display an image in Jupyter notebook\n",
    "from IPython.display import Image\n",
    "\n",
    "display(Image('https://raw.githubusercontent.com/PokeAPI/sprites/master/sprites/pokemon/245.png', width = 200))\n"
   ]
  },
  {
   "cell_type": "code",
   "execution_count": 32,
   "metadata": {},
   "outputs": [],
   "source": [
    "# recreate your pokemon class here\n",
    "class Pokemon:\n",
    "    def __init__(self,name):\n",
    "        self.name = name\n",
    "        self.types = None\n",
    "        self.weight = None\n",
    "        self.abilities = None\n",
    "        self.sprite = None\n",
    "        self.poke_api_call()\n",
    "    def poke_api_call(self):\n",
    "        # Use the pokemon parameter to make a request to the pokeapi\n",
    "        response = requests.get(f'https://pokeapi.co/api/v2/pokemon/{self.name}/')\n",
    "        # if the status code is 200:\n",
    "        if response.status_code == 200:\n",
    "            # Get the pokemon's data with the json method\n",
    "            data = response.json()\n",
    "            # Pull out the name, weight, types, abilities\n",
    "            self.name = data['name']\n",
    "            types = data['types']\n",
    "            self.types = list(map(lambda x: x['type']['name'], types))\n",
    "            self.weight = data['weight']\n",
    "            abilities = data['abilities']\n",
    "            self.abilities = list(map(lambda x: x['ability']['name'], abilities))\n",
    "            self.sprite = data['sprites']['front_default']\n",
    "            # if the status code is not 200, print an error message\n",
    "        else:\n",
    "            print(f'ERROR, STATUS CODE {response.status_code}')\n",
    "    def display_pokemon(self):\n",
    "        display(Image(self.sprite, width = 300))"
   ]
  },
  {
   "cell_type": "code",
   "execution_count": 33,
   "metadata": {},
   "outputs": [],
   "source": [
    "pikachu = Pokemon('pikachu')\n",
    "\n",
    "\n",
    "\n",
    "\n",
    "\n"
   ]
  },
  {
   "cell_type": "code",
   "execution_count": 34,
   "metadata": {},
   "outputs": [
    {
     "data": {
      "image/png": "[encoded data removed]",
      "text/plain": [
       "<IPython.core.display.Image object>"
      ]
     },
     "metadata": {
      "image/png": {
       "width": 300
      }
     },
     "output_type": "display_data"
    }
   ],
   "source": [
    "pikachu.display_pokemon()\n"
   ]
  },
  {
   "cell_type": "code",
   "execution_count": 18,
   "metadata": {},
   "outputs": [],
   "source": [
    "# Calling our new method\n"
   ]
  },
  {
   "cell_type": "markdown",
   "metadata": {},
   "source": [
    "## Exercise 2:"
   ]
  },
  {
   "cell_type": "markdown",
   "metadata": {},
   "source": [
    "### Create a Method that evolves your Pokemon\n",
    "If your pokemon can't evolve any further print a message that says \"\\<name of pokemon> can't evolve.\""
   ]
  },
  {
   "cell_type": "code",
   "execution_count": 321,
   "metadata": {},
   "outputs": [],
   "source": [
    "# Create a method for your Pokemon class that takes in user input, \n",
    "# to ask what new pokemon your current pokemon should evolve into."
   ]
  },
  {
   "cell_type": "code",
   "execution_count": null,
   "metadata": {},
   "outputs": [],
   "source": [
    "# Create a method\n",
    "# Take in user input, should be a pokemons name\n",
    "# Update the current pokemon's attributes (their height, weight, sprite, etc.) to the new pokemon's values\n"
   ]
  },
  {
   "cell_type": "markdown",
   "metadata": {},
   "source": [
    "Now let's evolve a few"
   ]
  },
  {
   "cell_type": "code",
   "execution_count": 92,
   "metadata": {
    "scrolled": true
   },
   "outputs": [
    {
     "name": "stdout",
     "output_type": "stream",
     "text": [
      "https://raw.githubusercontent.com/PokeAPI/sprites/master/sprites/pokemon/25.png\n"
     ]
    }
   ],
   "source": [
    "pikachu = Pokemon('pikachu')\n",
    "\n",
    "print(pikachu.sprite)"
   ]
  },
  {
   "cell_type": "code",
   "execution_count": 93,
   "metadata": {},
   "outputs": [
    {
     "name": "stdout",
     "output_type": "stream",
     "text": [
      "What pokemon should you evolve into?raichu\n"
     ]
    }
   ],
   "source": [
    "pikachu.evolve()"
   ]
  },
  {
   "cell_type": "code",
   "execution_count": 94,
   "metadata": {},
   "outputs": [
    {
     "data": {
      "text/plain": [
       "'https://raw.githubusercontent.com/PokeAPI/sprites/master/sprites/pokemon/26.png'"
      ]
     },
     "execution_count": 94,
     "metadata": {},
     "output_type": "execute_result"
    }
   ],
   "source": [
    "pikachu.sprite\n"
   ]
  },
  {
   "cell_type": "code",
   "execution_count": null,
   "metadata": {},
   "outputs": [],
   "source": []
  },
  {
   "cell_type": "markdown",
   "metadata": {},
   "source": [
    "#  Final Exercise (Optional): <br> <br>Create a Move_Tutor Class that will allow the Pokemon Class to inherit a move list.\n",
    "<br>\n",
    "<p>for an added bonus you can make sure that if a pokemon has 4 moves the user can choose one of them to replace with a new move. </p>"
   ]
  },
  {
   "cell_type": "code",
   "execution_count": 19,
   "metadata": {},
   "outputs": [],
   "source": [
    "class Move_Tutor:\n",
    "    def __init__(self):\n",
    "        self.move_list = []"
   ]
  },
  {
   "cell_type": "code",
   "execution_count": null,
   "metadata": {},
   "outputs": [],
   "source": []
  },
  {
   "cell_type": "code",
   "execution_count": 81,
   "metadata": {},
   "outputs": [
    {
     "name": "stdout",
     "output_type": "stream",
     "text": [
      "What move would you like to teach pikachu? spark\n",
      "pikachu learned spark!\n"
     ]
    }
   ],
   "source": [
    "pikachu.teach_move()\n"
   ]
  },
  {
   "cell_type": "code",
   "execution_count": 79,
   "metadata": {},
   "outputs": [
    {
     "name": "stdout",
     "output_type": "stream",
     "text": [
      "pikachu's moves'\n",
      "thunder\n",
      "surf\n",
      "earthquake\n"
     ]
    }
   ],
   "source": [
    "pikachu.show_moves()"
   ]
  }
 ],
 "metadata": {
  "kernelspec": {
   "display_name": "Python 3",
   "language": "python",
   "name": "python3"
  },
  "language_info": {
   "codemirror_mode": {
    "name": "ipython",
    "version": 3
   },
   "file_extension": ".py",
   "mimetype": "text/x-python",
   "name": "python",
   "nbconvert_exporter": "python",
   "pygments_lexer": "ipython3",
   "version": "3.9.7"
  },
  "vscode": {
   "interpreter": {
    "hash": "a32a2f9230e627249c30f353120b56329bf63e638ea7e3329bedf088e318fad2"
   }
  }
 },
 "nbformat": 4,
 "nbformat_minor": 4
}
